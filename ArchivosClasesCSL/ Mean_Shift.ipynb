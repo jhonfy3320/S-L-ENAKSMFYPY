{
 "cells": [
  {
   "cell_type": "code",
   "execution_count": 2,
   "metadata": {},
   "outputs": [],
   "source": [
    "import pandas as pd \n",
    "import numpy as np \n",
    "import matplotlib.pyplot as plt \n",
    "import seaborn as sns\n",
    "\n",
    "from sklearn.cluster import MeanShift"
   ]
  },
  {
   "cell_type": "code",
   "execution_count": 3,
   "metadata": {},
   "outputs": [
    {
     "name": "stdout",
     "output_type": "stream",
     "text": [
      "       competitorname  chocolate  fruity  caramel  peanutyalmondy  nougat  \\\n",
      "0           100 Grand          1       0        1               0       0   \n",
      "1        3 Musketeers          1       0        0               0       1   \n",
      "2            One dime          0       0        0               0       0   \n",
      "3         One quarter          0       0        0               0       0   \n",
      "4           Air Heads          0       1        0               0       0   \n",
      "5          Almond Joy          1       0        0               1       0   \n",
      "6           Baby Ruth          1       0        1               1       1   \n",
      "7  Boston Baked Beans          0       0        0               1       0   \n",
      "8          Candy Corn          0       0        0               0       0   \n",
      "9  Caramel Apple Pops          0       1        1               0       0   \n",
      "\n",
      "   crispedricewafer  hard  bar  pluribus  sugarpercent  pricepercent  \\\n",
      "0                 1     0    1         0         0.732         0.860   \n",
      "1                 0     0    1         0         0.604         0.511   \n",
      "2                 0     0    0         0         0.011         0.116   \n",
      "3                 0     0    0         0         0.011         0.511   \n",
      "4                 0     0    0         0         0.906         0.511   \n",
      "5                 0     0    1         0         0.465         0.767   \n",
      "6                 0     0    1         0         0.604         0.767   \n",
      "7                 0     0    0         1         0.313         0.511   \n",
      "8                 0     0    0         1         0.906         0.325   \n",
      "9                 0     0    0         0         0.604         0.325   \n",
      "\n",
      "   winpercent  \n",
      "0   66.971725  \n",
      "1   67.602936  \n",
      "2   32.261086  \n",
      "3   46.116505  \n",
      "4   52.341465  \n",
      "5   50.347546  \n",
      "6   56.914547  \n",
      "7   23.417824  \n",
      "8   38.010963  \n",
      "9   34.517681  \n"
     ]
    }
   ],
   "source": [
    "if __name__ == '__main__':\n",
    "    dataset = pd.read_csv('/home/jhonfypy/CursoML_Scikit_learni_jf/candy.csv')\n",
    "    print(dataset.head(10))"
   ]
  },
  {
   "cell_type": "code",
   "execution_count": 5,
   "metadata": {},
   "outputs": [
    {
     "name": "stdout",
     "output_type": "stream",
     "text": [
      "[2 2 0 0 1 1 1 0 0 0 0 0 0 0 0 0 0 1 1 0 1 0 1 2 1 2 0 1 2 0 0 1 2 2 0 1 2\n",
      " 2 2 1 1 1 2 2 0 0 0 2 0 0 0 2 2 2 2 0 2 0 0 0 2 1 0 0 2 2 2 1 2 0 0 0 0 1\n",
      " 1 0 0 1 1 2 0 0 0 0 1]\n"
     ]
    }
   ],
   "source": [
    "X = dataset.drop('competitorname', axis=1)\n",
    "meanShift = MeanShift().fit(X)\n",
    "print(meanShift.labels_)"
   ]
  },
  {
   "cell_type": "code",
   "execution_count": 10,
   "metadata": {},
   "outputs": [
    {
     "name": "stdout",
     "output_type": "stream",
     "text": [
      "2\n",
      "{0, 1, 2}\n"
     ]
    }
   ],
   "source": [
    "#identificando cuantos grupos tenemos en nuetros datos depues de utilizar meanshif\n",
    "X = dataset.drop('competitorname', axis=1)\n",
    "meanShift = MeanShift().fit(X)\n",
    "print(max(meanShift.labels_))\n",
    "print(set(meanShift.labels_))\n",
    " # Aca meanshiff nos devuelve 3 crosters "
   ]
  },
  {
   "cell_type": "code",
   "execution_count": 7,
   "metadata": {},
   "outputs": [
    {
     "name": "stdout",
     "output_type": "stream",
     "text": [
      "====================================================================\n",
      "[[2.25000000e-01 5.75000000e-01 1.00000000e-01 2.50000000e-02\n",
      "  5.00000000e-02 2.50000000e-02 3.00000000e-01 1.00000000e-01\n",
      "  5.50000000e-01 4.57599993e-01 3.67824996e-01 4.10442122e+01]\n",
      " [4.68750000e-01 5.00000000e-01 1.25000000e-01 1.56250000e-01\n",
      "  9.37500000e-02 6.25000000e-02 1.25000000e-01 3.12500000e-01\n",
      "  5.31250000e-01 4.57281243e-01 4.67874998e-01 5.21138597e+01]\n",
      " [8.26086957e-01 1.73913043e-01 3.04347826e-01 3.04347826e-01\n",
      "  1.73913043e-01 1.73913043e-01 0.00000000e+00 5.21739130e-01\n",
      "  4.34782609e-01 5.81391293e-01 6.38086963e-01 6.47120799e+01]]\n"
     ]
    }
   ],
   "source": [
    "print('='*68)\n",
    "print(meanShift.cluster_centers_)"
   ]
  },
  {
   "cell_type": "code",
   "execution_count": 8,
   "metadata": {},
   "outputs": [
    {
     "name": "stdout",
     "output_type": "stream",
     "text": [
      "====================================================================\n",
      "                competitorname  chocolate  fruity  caramel  peanutyalmondy  \\\n",
      "0                    100 Grand          1       0        1               0   \n",
      "1                 3 Musketeers          1       0        0               0   \n",
      "2                     One dime          0       0        0               0   \n",
      "3                  One quarter          0       0        0               0   \n",
      "4                    Air Heads          0       1        0               0   \n",
      "..                         ...        ...     ...      ...             ...   \n",
      "80                   Twizzlers          0       1        0               0   \n",
      "81                    Warheads          0       1        0               0   \n",
      "82        WelchÕs Fruit Snacks          0       1        0               0   \n",
      "83  WertherÕs Original Caramel          0       0        1               0   \n",
      "84                    Whoppers          1       0        0               0   \n",
      "\n",
      "    nougat  crispedricewafer  hard  bar  pluribus  sugarpercent  pricepercent  \\\n",
      "0        0                 1     0    1         0         0.732         0.860   \n",
      "1        1                 0     0    1         0         0.604         0.511   \n",
      "2        0                 0     0    0         0         0.011         0.116   \n",
      "3        0                 0     0    0         0         0.011         0.511   \n",
      "4        0                 0     0    0         0         0.906         0.511   \n",
      "..     ...               ...   ...  ...       ...           ...           ...   \n",
      "80       0                 0     0    0         0         0.220         0.116   \n",
      "81       0                 0     1    0         0         0.093         0.116   \n",
      "82       0                 0     0    0         1         0.313         0.313   \n",
      "83       0                 0     1    0         0         0.186         0.267   \n",
      "84       0                 1     0    0         1         0.872         0.848   \n",
      "\n",
      "    winpercent  meanShift  \n",
      "0    66.971725          2  \n",
      "1    67.602936          2  \n",
      "2    32.261086          0  \n",
      "3    46.116505          0  \n",
      "4    52.341465          1  \n",
      "..         ...        ...  \n",
      "80   45.466282          0  \n",
      "81   39.011898          0  \n",
      "82   44.375519          0  \n",
      "83   41.904308          0  \n",
      "84   49.524113          1  \n",
      "\n",
      "[85 rows x 14 columns]\n"
     ]
    }
   ],
   "source": [
    "dataset['meanShift'] = meanShift.labels_\n",
    "print('='*68)\n",
    "print(dataset)"
   ]
  },
  {
   "cell_type": "code",
   "execution_count": null,
   "metadata": {},
   "outputs": [],
   "source": []
  }
 ],
 "metadata": {
  "kernelspec": {
   "display_name": "Scikit-learni-envjf",
   "language": "python",
   "name": "python3"
  },
  "language_info": {
   "codemirror_mode": {
    "name": "ipython",
    "version": 3
   },
   "file_extension": ".py",
   "mimetype": "text/x-python",
   "name": "python",
   "nbconvert_exporter": "python",
   "pygments_lexer": "ipython3",
   "version": "3.10.14"
  },
  "orig_nbformat": 4
 },
 "nbformat": 4,
 "nbformat_minor": 2
}
