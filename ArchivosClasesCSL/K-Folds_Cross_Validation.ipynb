{
 "cells": [
  {
   "cell_type": "code",
   "execution_count": 2,
   "metadata": {},
   "outputs": [],
   "source": [
    "import pandas as pd \n",
    "import numpy as np \n",
    "import matplotlib.pyplot as plt \n",
    "\n",
    "from sklearn.tree import DecisionTreeRegressor\n",
    "\n",
    "#importando las funciones \n",
    "from sklearn.model_selection import (\n",
    "    cross_val_score, KFold\n",
    ")"
   ]
  },
  {
   "cell_type": "code",
   "execution_count": 5,
   "metadata": {},
   "outputs": [
    {
     "name": "stdout",
     "output_type": "stream",
     "text": [
      "       country  rank  score      high       low       gdp    family    lifexp  \\\n",
      "0       Norway     1  7.537  7.594445  7.479556  1.616463  1.533524  0.796667   \n",
      "1      Denmark     2  7.522  7.581728  7.462272  1.482383  1.551122  0.792566   \n",
      "2      Iceland     3  7.504  7.622030  7.385970  1.480633  1.610574  0.833552   \n",
      "3  Switzerland     4  7.494  7.561772  7.426227  1.564980  1.516912  0.858131   \n",
      "4      Finland     5  7.469  7.527542  7.410458  1.443572  1.540247  0.809158   \n",
      "5  Netherlands     6  7.377  7.427426  7.326574  1.503945  1.428939  0.810696   \n",
      "6       Canada     7  7.316  7.384403  7.247597  1.479204  1.481349  0.834558   \n",
      "7  New Zealand     8  7.314  7.379510  7.248490  1.405706  1.548195  0.816760   \n",
      "8       Sweden     9  7.284  7.344095  7.223905  1.494387  1.478162  0.830875   \n",
      "9    Australia    10  7.284  7.356651  7.211349  1.484415  1.510042  0.843887   \n",
      "\n",
      "    freedom  generosity  corruption  dystopia  \n",
      "0  0.635423    0.362012    0.315964  2.277027  \n",
      "1  0.626007    0.355280    0.400770  2.313707  \n",
      "2  0.627163    0.475540    0.153527  2.322715  \n",
      "3  0.620071    0.290549    0.367007  2.276716  \n",
      "4  0.617951    0.245483    0.382612  2.430182  \n",
      "5  0.585384    0.470490    0.282662  2.294804  \n",
      "6  0.611101    0.435540    0.287372  2.187264  \n",
      "7  0.614062    0.500005    0.382817  2.046456  \n",
      "8  0.612924    0.385399    0.384399  2.097538  \n",
      "9  0.601607    0.477699    0.301184  2.065211  \n"
     ]
    }
   ],
   "source": [
    "if __name__ == '__main__':\n",
    "    dataset = pd.read_csv('/home/jhonfypy/CursoML_Scikit_learni_jf/felicidad.csv')\n",
    "    print(dataset.head(10))"
   ]
  },
  {
   "cell_type": "code",
   "execution_count": 8,
   "metadata": {},
   "outputs": [
    {
     "name": "stdout",
     "output_type": "stream",
     "text": [
      "imprimendo el MSE [-0.41828777 -0.05340181 -0.0666599  -0.07808105 -0.4203554 ]\n",
      "imprimiendo el error cuadartico medio \n"
     ]
    }
   ],
   "source": [
    "X = dataset.drop(['country', 'score'], axis=1)\n",
    "y = dataset['score']\n",
    "\n",
    "model = DecisionTreeRegressor()\n",
    "score = cross_val_score(model, X,y, scoring= 'neg_mean_squared_error')\n",
    "print('imprimendo el MSE',score)\n",
    "print('imprimiendo el error cuadartico medio ')"
   ]
  },
  {
   "cell_type": "code",
   "execution_count": 9,
   "metadata": {},
   "outputs": [
    {
     "name": "stdout",
     "output_type": "stream",
     "text": [
      "[-0.84377295 -0.1572114  -0.95626505]\n"
     ]
    }
   ],
   "source": [
    "#reduciendo los pliegues del parametro a 3\n",
    "X = dataset.drop(['country', 'score'], axis=1)\n",
    "y = dataset['score']\n",
    "\n",
    "model = DecisionTreeRegressor()\n",
    "score = cross_val_score(model, X,y, cv=3, scoring= 'neg_mean_squared_error')\n",
    "print(score)"
   ]
  },
  {
   "cell_type": "code",
   "execution_count": 10,
   "metadata": {},
   "outputs": [
    {
     "name": "stdout",
     "output_type": "stream",
     "text": [
      "-0.5742155891293567\n"
     ]
    }
   ],
   "source": [
    "#Condensando los valores negativos \n",
    "X = dataset.drop(['country', 'score'], axis=1)\n",
    "y = dataset['score']\n",
    "\n",
    "model = DecisionTreeRegressor()\n",
    "score = cross_val_score(model, X,y, cv= 3, scoring='neg_mean_squared_error')\n",
    "print(np.mean(score))"
   ]
  },
  {
   "cell_type": "code",
   "execution_count": 11,
   "metadata": {},
   "outputs": [
    {
     "name": "stdout",
     "output_type": "stream",
     "text": [
      "0.6518925455658521\n"
     ]
    }
   ],
   "source": [
    "#Utilizando el valor Absoluto del score\n",
    "X = dataset.drop(['country', 'score'], axis=1)\n",
    "y = dataset['score']\n",
    "\n",
    "model = DecisionTreeRegressor()\n",
    "score = cross_val_score(model, X,y, cv= 3, scoring='neg_mean_squared_error')\n",
    "print(np.abs(np.mean(score)))"
   ]
  },
  {
   "cell_type": "markdown",
   "metadata": {},
   "source": [
    "Todo lo anterior es la forma mas basica de implementar el cross_Validation"
   ]
  },
  {
   "cell_type": "code",
   "execution_count": 12,
   "metadata": {},
   "outputs": [
    {
     "name": "stdout",
     "output_type": "stream",
     "text": [
      "[  0   1   2   3   4   5   6   7   8  10  13  14  16  17  20  21  23  25\n",
      "  28  32  33  34  35  37  38  39  40  41  43  44  46  47  48  49  50  52\n",
      "  53  54  57  58  59  61  62  63  64  67  70  71  72  73  74  77  80  83\n",
      "  87  88  89  91  92  94  97  98  99 100 101 102 103 104 105 106 107 108\n",
      " 110 111 112 113 114 115 116 120 121 123 125 127 128 129 130 132 134 135\n",
      " 136 139 140 143 144 145 146 148 149 150 151 152 154]\n",
      "[  9  11  12  15  18  19  22  24  26  27  29  30  31  36  42  45  51  55\n",
      "  56  60  65  66  68  69  75  76  78  79  81  82  84  85  86  90  93  95\n",
      "  96 109 117 118 119 122 124 126 131 133 137 138 141 142 147 153]\n",
      "[  1   2   3   6   8   9  11  12  13  14  15  17  18  19  20  21  22  24\n",
      "  26  27  29  30  31  36  37  38  42  45  48  50  51  52  54  55  56  57\n",
      "  58  59  60  63  65  66  68  69  71  72  74  75  76  78  79  81  82  83\n",
      "  84  85  86  87  88  89  90  91  92  93  95  96  99 100 102 103 106 107\n",
      " 109 112 115 116 117 118 119 120 121 122 124 126 128 129 130 131 132 133\n",
      " 135 137 138 139 140 141 142 145 147 149 152 153 154]\n",
      "[  0   4   5   7  10  16  23  25  28  32  33  34  35  39  40  41  43  44\n",
      "  46  47  49  53  61  62  64  67  70  73  77  80  94  97  98 101 104 105\n",
      " 108 110 111 113 114 123 125 127 134 136 143 144 146 148 150 151]\n",
      "[  0   4   5   7   9  10  11  12  15  16  18  19  22  23  24  25  26  27\n",
      "  28  29  30  31  32  33  34  35  36  39  40  41  42  43  44  45  46  47\n",
      "  49  51  53  55  56  60  61  62  64  65  66  67  68  69  70  73  75  76\n",
      "  77  78  79  80  81  82  84  85  86  90  93  94  95  96  97  98 101 104\n",
      " 105 108 109 110 111 113 114 117 118 119 122 123 124 125 126 127 131 133\n",
      " 134 136 137 138 141 142 143 144 146 147 148 150 151 153]\n",
      "[  1   2   3   6   8  13  14  17  20  21  37  38  48  50  52  54  57  58\n",
      "  59  63  71  72  74  83  87  88  89  91  92  99 100 102 103 106 107 112\n",
      " 115 116 120 121 128 129 130 132 135 139 140 145 149 152 154]\n"
     ]
    }
   ],
   "source": [
    "#funcion de cross_validations de fondo \n",
    "\n",
    "kf = KFold(n_splits=3, shuffle=True, random_state=42)\n",
    "for train, test in kf.split(dataset):\n",
    "    print(train)\n",
    "    print(test)"
   ]
  },
  {
   "cell_type": "code",
   "execution_count": 21,
   "metadata": {},
   "outputs": [
    {
     "data": {
      "image/png": "[encoded data removed]",
      "text/plain": [
       "<Figure size 640x480 with 1 Axes>"
      ]
     },
     "metadata": {},
     "output_type": "display_data"
    }
   ],
   "source": [
    "import pandas as pd\n",
    "import matplotlib.pyplot as plt\n",
    "from sklearn.model_selection import cross_val_predict\n",
    "from sklearn.linear_model import LinearRegression\n",
    "from sklearn.metrics import r2_score\n",
    "\n",
    "# Cargar el conjunto de datos\n",
    "data = pd.read_csv('/home/jhonfypy/CursoML_Scikit_learni_jf/felicidad.csv')\n",
    "\n",
    "# Codificar las características categóricas (si las hay)\n",
    "data = pd.get_dummies(data, columns=['country'], drop_first=True)\n",
    "\n",
    "# Separar las características (X) y la variable objetivo (y)\n",
    "X = data.drop(columns=['score'])\n",
    "y = data['score']\n",
    "\n",
    "# Crear un modelo de regresión lineal\n",
    "model = LinearRegression()\n",
    "\n",
    "# Realizar validación cruzada y predecir valores\n",
    "predicted = cross_val_predict(model, X, y, cv=5)\n",
    "\n",
    "# Calcular el coeficiente de determinación R^2\n",
    "r2 = r2_score(y, predicted)\n",
    "\n",
    "# Graficar los resultados\n",
    "plt.scatter(y, predicted, alpha=0.5)\n",
    "plt.xlabel('Valores reales')\n",
    "plt.ylabel('Valores predichos')\n",
    "plt.title(f'Validación Cruzada - R^2 = {r2:.2f}')\n",
    "plt.show()\n",
    "\n"
   ]
  },
  {
   "cell_type": "code",
   "execution_count": 13,
   "metadata": {},
   "outputs": [
    {
     "name": "stdout",
     "output_type": "stream",
     "text": [
      "Los tres MSE fueron:  [0.010611298927272037, 0.009087619016346537, 0.004679607665128524]\n",
      "El MSE promedio fue:  0.0081261752029157\n"
     ]
    }
   ],
   "source": [
    "from sklearn.metrics import mean_squared_error\n",
    "\n",
    "\n",
    "data = dataset.drop([\"country\",\"score\"],axis=1)\n",
    "targets = dataset[\"score\"]\n",
    "\n",
    "kf = KFold(n_splits=3,shuffle=True)\n",
    "    \n",
    "mse_values = []\n",
    "for train,test in kf.split(data):\n",
    "    x_train = pd.DataFrame(columns=list(data),index=range(len(train)))\n",
    "    x_test = pd.DataFrame(columns=list(data),index=range(len(test)))\n",
    "    y_train = pd.DataFrame(columns=['score'],index=range(len(train)))\n",
    "    y_test = pd.DataFrame(columns=['score'],index=range(len(test)))\n",
    "    for i in range(len(train)):\n",
    "        x_train.iloc[i] = data.iloc[train[i]]\n",
    "        y_train.iloc[i] = targets.iloc[train[i]]\n",
    "    for j in range(len(test)):\n",
    "        x_test.iloc[j] = data.iloc[test[j]]\n",
    "        y_test.iloc[j] = targets.iloc[test[j]]\n",
    "    model = DecisionTreeRegressor().fit(x_train,y_train)\n",
    "    predict = model.predict(x_test)\n",
    "    mse_values.append(mean_squared_error(y_test,predict))\n",
    "    \n",
    "print(\"Los tres MSE fueron: \",mse_values)\n",
    "print(\"El MSE promedio fue: \", np.mean(mse_values))"
   ]
  },
  {
   "cell_type": "code",
   "execution_count": null,
   "metadata": {},
   "outputs": [],
   "source": []
  },
  {
   "cell_type": "markdown",
   "metadata": {},
   "source": [
    "El score es un arreglo de errores negativos medios cuadrados (es decir, cuanto mas pequeño en valor absoluto, mejor se ajusta el modelo a los datos) como salida del coss_val_score, este resultado se da ya que el modelo fue separado cv veces (en este caso 5 al principio y luego 3) en set de datos de entrenamiento y prueba, en lo que se puede notar que particiones fueron mas satisfactorias.\n",
    "Ahora al aplicar el promedio y el valor absoluto, puedes observar el error medio cuadrado promedio calculado a partir de las salidas score que evalúan la adaptación promedio del modelo a los datos."
   ]
  }
 ],
 "metadata": {
  "kernelspec": {
   "display_name": "Scikit-learni-envjf",
   "language": "python",
   "name": "python3"
  },
  "language_info": {
   "codemirror_mode": {
    "name": "ipython",
    "version": 3
   },
   "file_extension": ".py",
   "mimetype": "text/x-python",
   "name": "python",
   "nbconvert_exporter": "python",
   "pygments_lexer": "ipython3",
   "version": "3.11.4"
  },
  "orig_nbformat": 4
 },
 "nbformat": 4,
 "nbformat_minor": 2
}
