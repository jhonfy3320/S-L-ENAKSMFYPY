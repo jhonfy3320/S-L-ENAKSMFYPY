{
 "cells": [
  {
   "cell_type": "code",
   "execution_count": 12,
   "metadata": {},
   "outputs": [],
   "source": [
    "import pandas as pd \n",
    "from sklearn.linear_model import (\n",
    "    RANSACRegressor, HuberRegressor)\n",
    "from sklearn.svm import SVR\n",
    "from sklearn.model_selection import train_test_split\n",
    "from sklearn.metrics import mean_squared_error  "
   ]
  },
  {
   "cell_type": "code",
   "execution_count": 2,
   "metadata": {},
   "outputs": [
    {
     "name": "stdout",
     "output_type": "stream",
     "text": [
      "       country  rank  score      high       low       gdp    family    lifexp  \\\n",
      "0       Norway     1  7.537  7.594445  7.479556  1.616463  1.533524  0.796667   \n",
      "1      Denmark     2  7.522  7.581728  7.462272  1.482383  1.551122  0.792566   \n",
      "2      Iceland     3  7.504  7.622030  7.385970  1.480633  1.610574  0.833552   \n",
      "3  Switzerland     4  7.494  7.561772  7.426227  1.564980  1.516912  0.858131   \n",
      "4      Finland     5  7.469  7.527542  7.410458  1.443572  1.540247  0.809158   \n",
      "5  Netherlands     6  7.377  7.427426  7.326574  1.503945  1.428939  0.810696   \n",
      "6       Canada     7  7.316  7.384403  7.247597  1.479204  1.481349  0.834558   \n",
      "7  New Zealand     8  7.314  7.379510  7.248490  1.405706  1.548195  0.816760   \n",
      "8       Sweden     9  7.284  7.344095  7.223905  1.494387  1.478162  0.830875   \n",
      "9    Australia    10  7.284  7.356651  7.211349  1.484415  1.510042  0.843887   \n",
      "\n",
      "    freedom  generosity  corruption  dystopia  \n",
      "0  0.635423    0.362012    0.315964  2.277027  \n",
      "1  0.626007    0.355280    0.400770  2.313707  \n",
      "2  0.627163    0.475540    0.153527  2.322715  \n",
      "3  0.620071    0.290549    0.367007  2.276716  \n",
      "4  0.617951    0.245483    0.382612  2.430182  \n",
      "5  0.585384    0.470490    0.282662  2.294804  \n",
      "6  0.611101    0.435540    0.287372  2.187264  \n",
      "7  0.614062    0.500005    0.382817  2.046456  \n",
      "8  0.612924    0.385399    0.384399  2.097538  \n",
      "9  0.601607    0.477699    0.301184  2.065211  \n"
     ]
    }
   ],
   "source": [
    "if __name__ == '__main__':\n",
    "    dataset = pd.read_csv('/home/jhonfypy/CursoML_Scikit_learni_jf/felicidad_corrupt.csv')\n",
    "    print(dataset.head(10))"
   ]
  },
  {
   "cell_type": "code",
   "execution_count": 18,
   "metadata": {},
   "outputs": [],
   "source": [
    "X = dataset.drop(['country', 'score'], axis=1)\n",
    "y = dataset[['score']]\n",
    "\n",
    "X_train, X_test, y_train, y_test = train_test_split(X,y, test_size=0.3, random_state=42)\n",
    "\n",
    "estimadores = {\n",
    "        'SVR' : SVR(gamma= 'auto', C=1.0, epsilon=0.1),\n",
    "        'RANSAC' : RANSACRegressor(),\n",
    "        'HUBER' : HuberRegressor(epsilon=1.35)\n",
    " \n",
    "    }"
   ]
  },
  {
   "cell_type": "code",
   "execution_count": 20,
   "metadata": {},
   "outputs": [
    {
     "name": "stdout",
     "output_type": "stream",
     "text": [
      "================================================================\n",
      "SVR\n",
      "MSE 0.07455771301888525\n",
      "================================================================\n",
      "RANSAC\n",
      "MSE 1.2756388196785554e-19\n",
      "================================================================\n",
      "HUBER\n",
      "MSE 8.300263477689705e-07\n"
     ]
    }
   ],
   "source": [
    "from sklearn.metrics import mean_squared_error\n",
    "import warnings\n",
    "warnings.simplefilter(\"ignore\")\n",
    "\n",
    "for name, estimador in estimadores.items():\n",
    "        estimador.fit(X_train, y_train)\n",
    "        predictions = estimador.predict(X_test)\n",
    "        print('='*64)\n",
    "        print(name)\n",
    "        print('MSE', mean_squared_error(y_test, predictions))\n",
    "\n",
    "\n"
   ]
  }
 ],
 "metadata": {
  "kernelspec": {
   "display_name": "Scikit-learni-envjf",
   "language": "python",
   "name": "python3"
  },
  "language_info": {
   "codemirror_mode": {
    "name": "ipython",
    "version": 3
   },
   "file_extension": ".py",
   "mimetype": "text/x-python",
   "name": "python",
   "nbconvert_exporter": "python",
   "pygments_lexer": "ipython3",
   "version": "3.11.4"
  },
  "orig_nbformat": 4
 },
 "nbformat": 4,
 "nbformat_minor": 2
}
