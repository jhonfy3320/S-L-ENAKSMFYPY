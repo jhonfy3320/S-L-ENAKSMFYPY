{
 "cells": [
  {
   "cell_type": "code",
   "execution_count": null,
   "metadata": {},
   "outputs": [
    {
     "ename": "",
     "evalue": "",
     "output_type": "error",
     "traceback": [
      "\u001b[1;31mFailed to start the Kernel. \n",
      "\u001b[1;31mUnable to start Kernel 'Scikit-learni-ENAKSMFYPY (Python 3.10.14)' due to a timeout waiting for the ports to get used. \n",
      "\u001b[1;31mView Jupyter <a href='command:jupyter.viewOutput'>log</a> for further details."
     ]
    }
   ],
   "source": [
    "import pandas as pd\n",
    "import numpy as np\n",
    "import matplotlib.pyplot as plt\n",
    "import seaborn as sns\n",
    "from sklearn.preprocessing import StandardScaler\n",
    "from sklearn.model_selection import train_test_split\n",
    "from sklearn.ensemble import IsolationForest\n",
    "from sklearn.metrics import mean_squared_error\n",
    "\n",
    "# Cargar el dataset\n",
    "df = pd.read_csv('/home/jhonfypy/CursoML_Scikit_learni_jf/Scikit-learni-ENAKSMFYPY/in/felicidad.csv')\n",
    "\n",
    "# Exploración inicial\n",
    "print(df.describe())\n"
   ]
  },
  {
   "cell_type": "markdown",
   "metadata": {},
   "source": [
    "## Visualizacion de los valores atipicos "
   ]
  },
  {
   "cell_type": "code",
   "execution_count": null,
   "metadata": {},
   "outputs": [
    {
     "ename": "",
     "evalue": "",
     "output_type": "error",
     "traceback": [
      "\u001b[1;31mFailed to start the Kernel. \n",
      "\u001b[1;31mUnable to start Kernel 'Scikit-learni-ENAKSMFYPY (Python 3.10.14)' due to a timeout waiting for the ports to get used. \n",
      "\u001b[1;31mView Jupyter <a href='command:jupyter.viewOutput'>log</a> for further details."
     ]
    }
   ],
   "source": [
    "# Boxplot para cada característica\n",
    "plt.figure(figsize=(10, 6))\n",
    "sns.boxplot(data=df)\n",
    "plt.xticks(rotation=90)\n",
    "plt.show()\n"
   ]
  },
  {
   "cell_type": "markdown",
   "metadata": {},
   "source": [
    "### Identificación de Outliers usando Isolation Forest"
   ]
  },
  {
   "cell_type": "code",
   "execution_count": null,
   "metadata": {},
   "outputs": [],
   "source": [
    "# Separar características y la variable objetivo\n",
    "X = df.drop(['score'], axis=1)\n",
    "y = df['score']\n",
    "\n",
    "# Convertir columnas categóricas a numéricas con One-Hot Encoding si es necesario\n",
    "X = pd.get_dummies(X, drop_first=True)\n",
    "\n",
    "# Normalizar los datos\n",
    "scaler = StandardScaler()\n",
    "X_scaled = scaler.fit_transform(X)\n",
    "\n",
    "# Ajustar el modelo Isolation Forest\n",
    "iso_forest = IsolationForest(contamination=0.1, random_state=42)\n",
    "outliers = iso_forest.fit_predict(X_scaled)\n",
    "\n",
    "# Añadir una columna de outliers al dataframe\n",
    "df['outliers'] = outliers\n",
    "\n",
    "# Mostrar las filas consideradas como outliers\n",
    "print(df[df['outliers'] == -1])\n"
   ]
  },
  {
   "cell_type": "markdown",
   "metadata": {},
   "source": [
    "Tratamiento de Outliers\n",
    "Hay varias formas de manejar los outliers:\n",
    "\n",
    "Eliminarlos: Si los outliers son errores o datos irrelevantes.\n",
    "Imputación: Reemplazar los valores atípicos por la media, mediana u otros valores.\n",
    "Para este ejemplo, vamos a eliminar los outliers."
   ]
  },
  {
   "cell_type": "code",
   "execution_count": null,
   "metadata": {},
   "outputs": [],
   "source": [
    "# Eliminar los outliers\n",
    "df_cleaned = df[df['outliers'] != -1]\n",
    "\n",
    "# Separar características y la variable objetivo nuevamente\n",
    "X_cleaned = df_cleaned.drop(['score', 'outliers'], axis=1)\n",
    "y_cleaned = df_cleaned['score']\n",
    "\n",
    "# Normalizar los datos nuevamente\n",
    "X_cleaned_scaled = scaler.fit_transform(X_cleaned)\n",
    "\n",
    "# Dividir en conjunto de entrenamiento y prueba\n",
    "X_train, X_test, y_train, y_test = train_test_split(X_cleaned_scaled, y_cleaned, test_size=0.3, random_state=42)\n",
    "\n",
    "# Implementación de Elastic Net\n",
    "elastic_net = ElasticNet(alpha=1.0, l1_ratio=0.5)\n",
    "elastic_net.fit(X_train, y_train)\n",
    "y_pred_en = elastic_net.predict(X_test)\n",
    "en_loss = mean_squared_error(y_test, y_pred_en)\n",
    "en_coefficients = elastic_net.coef_\n",
    "\n",
    "print(f\"Elastic Net Loss: {en_loss}\")\n",
    "print(\"Coeficientes de Elastic Net:\", en_coefficients)\n"
   ]
  },
  {
   "cell_type": "markdown",
   "metadata": {},
   "source": [
    "### Conclusión\n",
    "Identificar y manejar los valores atípicos es un paso crucial en el preprocesamiento de datos para modelos de Machine Learning. Dependiendo del contexto y del problema específico, puedes optar por diferentes estrategias para tratar con outliers. En este ejemplo, hemos eliminado los outliers utilizando Isolation Forest y luego reentrenado el modelo Elastic Net, lo que debería mejorar la robustez y precisión del modelo."
   ]
  }
 ],
 "metadata": {
  "kernelspec": {
   "display_name": "Scikit-learni-ENAKSMFYPY",
   "language": "python",
   "name": "python3"
  },
  "language_info": {
   "name": "python",
   "version": "3.10.14"
  }
 },
 "nbformat": 4,
 "nbformat_minor": 2
}
