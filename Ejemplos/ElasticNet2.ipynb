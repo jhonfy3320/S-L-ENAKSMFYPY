{
 "cells": [
  {
   "cell_type": "code",
   "execution_count": 3,
   "metadata": {},
   "outputs": [
    {
     "name": "stdout",
     "output_type": "stream",
     "text": [
      "Elastic Net Loss: 0.28200068157658337\n",
      "Coeficientes de Elastic Net: [-0.17370595  0.19431142  0.19368276  0.          0.          0.\n",
      "  0.          0.          0.          0.         -0.          0.\n",
      " -0.          0.         -0.          0.          0.          0.\n",
      "  0.          0.          0.          0.          0.          0.\n",
      "  0.          0.         -0.         -0.          0.         -0.\n",
      "  0.          0.         -0.         -0.          0.         -0.\n",
      " -0.          0.          0.          0.         -0.         -0.\n",
      "  0.          0.          0.          0.          0.          0.\n",
      "  0.         -0.          0.          0.          0.          0.\n",
      "  0.          0.          0.          0.         -0.          0.\n",
      "  0.         -0.         -0.          0.          0.         -0.\n",
      "  0.         -0.         -0.         -0.         -0.          0.\n",
      "  0.          0.         -0.          0.          0.         -0.\n",
      "  0.         -0.         -0.          0.         -0.          0.\n",
      " -0.          0.          0.          0.          0.          0.\n",
      " -0.         -0.         -0.          0.          0.          0.\n",
      "  0.          0.          0.          0.         -0.          0.\n",
      " -0.         -0.         -0.         -0.         -0.          0.\n",
      "  0.          0.         -0.         -0.          0.          0.\n",
      " -0.         -0.          0.          0.          0.          0.\n",
      "  0.         -0.          0.          0.          0.         -0.\n",
      "  0.         -0.          0.         -0.          0.          0.\n",
      "  0.         -0.         -0.          0.         -0.          0.\n",
      " -0.         -0.          0.          0.         -0.          0.\n",
      "  0.         -0.          0.         -0.          0.         -0.\n",
      "  0.          0.         -0.          0.          0.          0.\n",
      "  0.          0.          0.          0.          0.         -0.\n",
      " -0.          0.        ]\n"
     ]
    }
   ],
   "source": [
    "import pandas as pd\n",
    "from sklearn.linear_model import ElasticNet\n",
    "from sklearn.preprocessing import StandardScaler\n",
    "from sklearn.model_selection import train_test_split\n",
    "from sklearn.metrics import mean_squared_error\n",
    "\n",
    "# Cargar el dataset\n",
    "df = pd.read_csv('/home/jhonfypy/CursoML_Scikit_learni_jf/Scikit-learni-ENAKSMFYPY/in/felicidad.csv')\n",
    "\n",
    "# Convertir columnas categóricas a numéricas con One-Hot Encoding\n",
    "df_encoded = pd.get_dummies(df, drop_first=True)\n",
    "\n",
    "# Separar características y la variable objetivo\n",
    "X = df_encoded.drop(['score'], axis=1)\n",
    "y = df_encoded['score']\n",
    "\n",
    "# Normalizar los datos\n",
    "scaler = StandardScaler()\n",
    "X_scaled = scaler.fit_transform(X)\n",
    "\n",
    "# Dividir en conjunto de entrenamiento y prueba\n",
    "X_train, X_test, y_train, y_test = train_test_split(X_scaled, y, test_size=0.3, random_state=42)\n",
    "\n",
    "# Implementación de Elastic Net\n",
    "elastic_net = ElasticNet(alpha=1.0, l1_ratio=0.5)\n",
    "elastic_net.fit(X_train, y_train)\n",
    "y_pred_en = elastic_net.predict(X_test)\n",
    "en_loss = mean_squared_error(y_test, y_pred_en)\n",
    "en_coefficients = elastic_net.coef_\n",
    "\n",
    "print(f\"Elastic Net Loss: {en_loss}\")\n",
    "print(\"Coeficientes de Elastic Net:\", en_coefficients)\n"
   ]
  },
  {
   "cell_type": "code",
   "execution_count": 5,
   "metadata": {},
   "outputs": [
    {
     "name": "stdout",
     "output_type": "stream",
     "text": [
      "Mejores Parámetros: {'alpha': 0.1, 'l1_ratio': 0.1}\n",
      "Mejor MSE: 0.003916019479499487\n"
     ]
    }
   ],
   "source": [
    "from sklearn.model_selection import GridSearchCV\n",
    "\n",
    "# Definir los parámetros de búsqueda\n",
    "param_grid = {\n",
    "    'alpha': [0.1, 0.5, 1.0, 5.0, 10.0],\n",
    "    'l1_ratio': [0.1, 0.5, 0.7, 0.9, 1.0]\n",
    "}\n",
    "\n",
    "# Crear el modelo ElasticNet\n",
    "elastic_net = ElasticNet()\n",
    "\n",
    "# Realizar la búsqueda en cuadrícula\n",
    "grid_search = GridSearchCV(estimator=elastic_net, param_grid=param_grid, cv=5, scoring='neg_mean_squared_error')\n",
    "grid_search.fit(X_train, y_train)\n",
    "\n",
    "# Mostrar los mejores parámetros y la pérdida correspondiente\n",
    "print(\"Mejores Parámetros:\", grid_search.best_params_)\n",
    "print(\"Mejor MSE:\", -grid_search.best_score_)\n"
   ]
  },
  {
   "cell_type": "markdown",
   "metadata": {},
   "source": [
    "Esta implementación de Elastic Net te permitirá ajustar un modelo con regularización combinada y ajustar sus hiperparámetros para obtener el mejor rendimiento posible en tu dataset."
   ]
  }
 ],
 "metadata": {
  "kernelspec": {
   "display_name": "Scikit-learni-ENAKSMFYPY",
   "language": "python",
   "name": "python3"
  },
  "language_info": {
   "codemirror_mode": {
    "name": "ipython",
    "version": 3
   },
   "file_extension": ".py",
   "mimetype": "text/x-python",
   "name": "python",
   "nbconvert_exporter": "python",
   "pygments_lexer": "ipython3",
   "version": "3.10.14"
  }
 },
 "nbformat": 4,
 "nbformat_minor": 2
}
