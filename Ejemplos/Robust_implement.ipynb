{
 "cells": [
  {
   "cell_type": "markdown",
   "metadata": {},
   "source": [
    "La regresión robusta es una técnica que maneja los valores atípicos o ruidosos en los datos al realizar el ajuste del modelo. Scikit-learn proporciona varios modelos para regresión robusta, incluyendo RANSACRegressory HuberRegressor. Estos modelos son útiles cuando se espera que los datos contengan valores atípicos que puedan afectar el rendimiento del modelo de regresión lineal.\n",
    "\n",
    "#### Aquí tienes un ejemplo de cómo implementar la regresión robusta en Scikit-learn usando el conjunto de datos felicidad_corrupt.csv:"
   ]
  },
  {
   "cell_type": "code",
   "execution_count": 1,
   "metadata": {},
   "outputs": [
    {
     "name": "stdout",
     "output_type": "stream",
     "text": [
      "MSE RANSAC: 1.2756388196785554e-19\n",
      "MSE Huber: 8.300263477689705e-07\n"
     ]
    },
    {
     "name": "stderr",
     "output_type": "stream",
     "text": [
      "/home/jhonfypy/anaconda3/envs/Scikit-learni-envjf/lib/python3.11/site-packages/sklearn/linear_model/_huber.py:342: ConvergenceWarning: lbfgs failed to converge (status=1):\n",
      "STOP: TOTAL NO. of ITERATIONS REACHED LIMIT.\n",
      "\n",
      "Increase the number of iterations (max_iter) or scale the data as shown in:\n",
      "    https://scikit-learn.org/stable/modules/preprocessing.html\n",
      "  self.n_iter_ = _check_optimize_result(\"lbfgs\", opt_res, self.max_iter)\n"
     ]
    }
   ],
   "source": [
    "import pandas as pd\n",
    "from sklearn.model_selection import train_test_split\n",
    "from sklearn.linear_model import RANSACRegressor, HuberRegressor\n",
    "from sklearn.metrics import mean_squared_error\n",
    "\n",
    "# Cargar el conjunto de datos\n",
    "dataset = pd.read_csv('/home/jhonfypy/CursoML_Scikit_learni_jf/felicidad_corrupt.csv')\n",
    "\n",
    "# Preparar características y etiquetas\n",
    "X = dataset.drop(['country', 'score'], axis=1)\n",
    "y = dataset['score']\n",
    "\n",
    "# División en conjuntos de entrenamiento y prueba\n",
    "X_train, X_test, y_train, y_test = train_test_split(X, y, test_size=0.3, random_state=42)\n",
    "\n",
    "# Crear los modelos de regresión robusta\n",
    "ransac_model = RANSACRegressor()\n",
    "huber_model = HuberRegressor(epsilon=1.35)\n",
    "\n",
    "# Entrenar los modelos\n",
    "ransac_model.fit(X_train, y_train)\n",
    "huber_model.fit(X_train, y_train)\n",
    "\n",
    "# Realizar predicciones en el conjunto de prueba\n",
    "y_pred_ransac = ransac_model.predict(X_test)\n",
    "y_pred_huber = huber_model.predict(X_test)\n",
    "\n",
    "# Calcular el error cuadrático medio (MSE)\n",
    "mse_ransac = mean_squared_error(y_test, y_pred_ransac)\n",
    "mse_huber = mean_squared_error(y_test, y_pred_huber)\n",
    "\n",
    "# Mostrar los resultados\n",
    "print(f'MSE RANSAC: {mse_ransac}')\n",
    "print(f'MSE Huber: {mse_huber}')\n"
   ]
  }
 ],
 "metadata": {
  "kernelspec": {
   "display_name": "Scikit-learni-envjf",
   "language": "python",
   "name": "python3"
  },
  "language_info": {
   "codemirror_mode": {
    "name": "ipython",
    "version": 3
   },
   "file_extension": ".py",
   "mimetype": "text/x-python",
   "name": "python",
   "nbconvert_exporter": "python",
   "pygments_lexer": "ipython3",
   "version": "3.11.4"
  },
  "orig_nbformat": 4
 },
 "nbformat": 4,
 "nbformat_minor": 2
}
